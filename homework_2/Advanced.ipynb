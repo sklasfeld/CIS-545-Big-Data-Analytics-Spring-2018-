{
 "cells": [
  {
   "cell_type": "code",
   "execution_count": 1,
   "metadata": {},
   "outputs": [],
   "source": [
    " from pyspark.sql import SparkSession\n",
    " from pyspark.sql.types import *\n",
    " import pyspark.sql.functions as F\n",
    " spark = SparkSession.builder.appName('Graphs-HW2').getOrCreate()"
   ]
  },
  {
   "cell_type": "code",
   "execution_count": 2,
   "metadata": {},
   "outputs": [],
   "source": [
    "# Read lines from the text file\n",
    "pr_sdf = spark.read.load('pr_graph.txt', format=\"text\")"
   ]
  },
  {
   "cell_type": "code",
   "execution_count": 3,
   "metadata": {},
   "outputs": [],
   "source": [
    "# convert \"Value\" column into seperate columns:\n",
    "# from_node, to_node, edge_type\n",
    "pr_sdf = pr_sdf.select( \\\n",
    "    F.split(pr_sdf.value, \" \")[0].alias(\"from_node\").cast(\"int\"), \\\n",
    "    F.split(pr_sdf.value, \" \")[1].alias(\"to_node\").cast(\"int\"), \\\n",
    "    F.split(pr_sdf.value, \" \")[2].alias(\"edge_type\"))"
   ]
  },
  {
   "cell_type": "code",
   "execution_count": 4,
   "metadata": {},
   "outputs": [],
   "source": [
    "# function to return portion of weight given weight column\n",
    "def propOweight(wval):\n",
    "    return 1 / wval\n",
    "\n",
    "sparkPropOweightF = F.udf(propOweight,  DoubleType())"
   ]
  },
  {
   "cell_type": "code",
   "execution_count": 5,
   "metadata": {},
   "outputs": [],
   "source": [
    "def summation4pagerange(propOfWeight,previous_pagerank):\n",
    "    beta = 0.15\n",
    "    alpha = 0.85\n",
    "    sigma = alpha * ((propOfWeight * float(previous_pagerank)) + beta)\n",
    "    return(sigma)\n",
    "\n",
    "sparkSum4pagerank = F.udf(summation4pagerange, DoubleType())"
   ]
  },
  {
   "cell_type": "code",
   "execution_count": 6,
   "metadata": {},
   "outputs": [],
   "source": [
    "def pagerank(G, num_iter):\n",
    "    \n",
    "    #G.repartition(2, \"from_node\")\n",
    "    # get proportion of weight dataframe\n",
    "    propOfWeight_sdf = G.select(\\\n",
    "        G.from_node).groupBy(\\\n",
    "        \"from_node\").agg(F.count(\"from_node\").alias(\\\n",
    "        \"weight\"))\n",
    "    propOfWeight_sdf = propOfWeight_sdf.select( \\\n",
    "        propOfWeight_sdf.from_node.alias(\"from_node2\"), \\\n",
    "        sparkPropOweightF(propOfWeight_sdf.weight).alias('propOfWeight'))\n",
    "    \n",
    "    # transfer weights\n",
    "    map_sdf = propOfWeight_sdf.join(G, \\\n",
    "            propOfWeight_sdf.from_node2 == G.from_node)\n",
    "    map_sdf = map_sdf.select(map_sdf.from_node, \\\n",
    "        map_sdf.to_node, map_sdf.propOfWeight)\n",
    "    map_sdf.cache()\n",
    "    \n",
    "    # go through base case\n",
    "    pagerank0=1/G.count()\n",
    "    pr_values_sdf = G.select(G.to_node.alias(\"node_id\"),\n",
    "        G.edge_type.alias(\"pagerank\"))\n",
    "    pr_values_sdf = pr_values_sdf.withColumn('pagerank', F.lit(pagerank0))\n",
    "    # iterate equation until finished\n",
    "    if num_iter > 0:\n",
    "        for i in range(1,num_iter+1):\n",
    "            pr_values_sdf = pr_values_sdf.join(map_sdf, \\\n",
    "                pr_values_sdf.node_id == map_sdf.to_node)\n",
    "            pr_values_sdf = pr_values_sdf.select( \\\n",
    "                pr_values_sdf.node_id, \\\n",
    "                sparkSum4pagerank(pr_values_sdf.propOfWeight, \\\n",
    "                pr_values_sdf.pagerank).alias('sum_pagerank'))\n",
    "            pr_values_sdf = pr_values_sdf.groupBy(\\\n",
    "                \"node_id\").agg(F.sum(\"sum_pagerank\").alias(\\\n",
    "                \"pagerank\"))\n",
    "    return pr_values_sdf\n",
    "    #return propOfWeight_sdf"
   ]
  },
  {
   "cell_type": "markdown",
   "metadata": {},
   "source": [
    "## Step 5"
   ]
  },
  {
   "cell_type": "code",
   "execution_count": 7,
   "metadata": {},
   "outputs": [
    {
     "data": {
      "text/plain": [
       "16"
      ]
     },
     "execution_count": 7,
     "metadata": {},
     "output_type": "execute_result"
    }
   ],
   "source": [
    "pr_sdf.count()"
   ]
  },
  {
   "cell_type": "code",
   "execution_count": 8,
   "metadata": {},
   "outputs": [
    {
     "name": "stdout",
     "output_type": "stream",
     "text": [
      "+---------+-------+---------+\n",
      "|from_node|to_node|edge_type|\n",
      "+---------+-------+---------+\n",
      "|        1|      2|        0|\n",
      "|        1|      3|        0|\n",
      "|        1|      4|        0|\n",
      "|        1|      5|        0|\n",
      "|        2|      3|        0|\n",
      "|        2|      5|        0|\n",
      "|        3|      2|        0|\n",
      "|        4|      5|        0|\n",
      "|        5|      1|        0|\n",
      "|        5|      6|        0|\n",
      "|        5|      7|        0|\n",
      "|        6|      7|        0|\n",
      "|        7|      6|        0|\n",
      "|        7|      2|        0|\n",
      "|        7|      7|        0|\n",
      "|        5|      4|        0|\n",
      "+---------+-------+---------+\n",
      "\n"
     ]
    }
   ],
   "source": [
    "pr_sdf.show()"
   ]
  },
  {
   "cell_type": "code",
   "execution_count": 9,
   "metadata": {},
   "outputs": [
    {
     "name": "stdout",
     "output_type": "stream",
     "text": [
      "+-------+-------------------+\n",
      "|node_id|           pagerank|\n",
      "+-------+-------------------+\n",
      "|      1|0.16186168922805783|\n",
      "|      2|  7.114950118931851|\n",
      "|      3| 0.6846588590011595|\n",
      "|      4|0.44738178247070304|\n",
      "|      5|  10.04020975711441|\n",
      "|      6| 0.5097860616265127|\n",
      "|      7|  7.114950118931851|\n",
      "+-------+-------------------+\n",
      "\n"
     ]
    }
   ],
   "source": [
    "pagerank(pr_sdf, 5).orderBy(\"node_id\").show()"
   ]
  }
 ],
 "metadata": {
  "kernelspec": {
   "display_name": "Python 3",
   "language": "python",
   "name": "python3"
  },
  "language_info": {
   "codemirror_mode": {
    "name": "ipython",
    "version": 3
   },
   "file_extension": ".py",
   "mimetype": "text/x-python",
   "name": "python",
   "nbconvert_exporter": "python",
   "pygments_lexer": "ipython3",
   "version": "3.6.4"
  }
 },
 "nbformat": 4,
 "nbformat_minor": 1
}
