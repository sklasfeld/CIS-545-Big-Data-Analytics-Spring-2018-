{
 "cells": [
  {
   "cell_type": "markdown",
   "metadata": {},
   "source": [
    "# CIS 545 Homework 2: Graphs"
   ]
  },
  {
   "cell_type": "code",
   "execution_count": 1,
   "metadata": {},
   "outputs": [],
   "source": [
    "# Execute this once, the first time you run\n",
    "#!pip install networkx\n",
    "\n",
    "# Disable Python warning messages - you should probably only run this before submission\n",
    "\n",
    "import warnings\n",
    "warnings.filterwarnings('ignore')"
   ]
  },
  {
   "cell_type": "markdown",
   "metadata": {},
   "source": [
    "## Step 2.1 Spark Setup"
   ]
  },
  {
   "cell_type": "code",
   "execution_count": 2,
   "metadata": {},
   "outputs": [],
   "source": [
    "# TODO: Connect to Spark as per Step 2.1\n",
    "from pyspark.sql import SparkSession\n",
    "from pyspark.sql.types import *\n",
    "import pyspark.sql.functions as F\n",
    "\n",
    "spark = SparkSession.builder.appName('Graphs-HW2').getOrCreate()"
   ]
  },
  {
   "cell_type": "code",
   "execution_count": 3,
   "metadata": {},
   "outputs": [],
   "source": [
    "# Load some dummy data, which should be overwritten in Step 2.2\n",
    "\n",
    "answers_sdf = spark.createDataFrame([{'from_node': 123, 'to_node': 456},\\\n",
    "                                    {'from_node': 456, 'to_node': 789},\n",
    "                                    {'from_node': 456, 'to_node': 890}])\n",
    "comments_answers_sdf = spark.createDataFrame([{'from_node': 123, 'to_node': 456}])\n",
    "comments_questions_sdf = spark.createDataFrame([{'from_node': 123, 'to_node': 456}])\n",
    "\n",
    "graph_sdf = spark.createDataFrame([{'from_node': 123, 'to_node': 456}])"
   ]
  },
  {
   "cell_type": "markdown",
   "metadata": {},
   "source": [
    "## Step 2.2 Loading"
   ]
  },
  {
   "cell_type": "code",
   "execution_count": 4,
   "metadata": {},
   "outputs": [],
   "source": [
    "# TODO: load data as per Step 2.2\n",
    "# Read lines from the text file\n",
    "\n",
    "answers_sdf = spark.read.load('sx-stackoverflow-a2q.txt', \n",
    "                              format=\"text\")\n",
    "comments_answers_sdf = spark.read.load('sx-stackoverflow-c2a.txt', \n",
    "                              format=\"text\")\n",
    "comments_questions_sdf = spark.read.load('sx-stackoverflow-c2q.txt', \n",
    "                              format=\"text\")\n"
   ]
  },
  {
   "cell_type": "code",
   "execution_count": 5,
   "metadata": {},
   "outputs": [],
   "source": [
    "# You may add as many cells as you like here.\n",
    "# Use Insert | Insert Cell Below"
   ]
  },
  {
   "cell_type": "markdown",
   "metadata": {},
   "source": [
    "## Step 2.2 Results"
   ]
  },
  {
   "cell_type": "code",
   "execution_count": 6,
   "metadata": {},
   "outputs": [
    {
     "data": {
      "text/plain": [
       "17823525"
      ]
     },
     "execution_count": 6,
     "metadata": {},
     "output_type": "execute_result"
    }
   ],
   "source": [
    "answers_sdf.count()"
   ]
  },
  {
   "cell_type": "code",
   "execution_count": 7,
   "metadata": {},
   "outputs": [
    {
     "name": "stdout",
     "output_type": "stream",
     "text": [
      "+----------------+\n",
      "|           value|\n",
      "+----------------+\n",
      "|  9 8 1217567877|\n",
      "|  1 1 1217573801|\n",
      "| 13 1 1217606247|\n",
      "| 17 1 1217617639|\n",
      "| 48 2 1217618182|\n",
      "| 17 1 1217618239|\n",
      "| 19 9 1217618357|\n",
      "|13 23 1217618560|\n",
      "|13 11 1217618799|\n",
      "|23 23 1217619360|\n",
      "+----------------+\n",
      "only showing top 10 rows\n",
      "\n"
     ]
    }
   ],
   "source": [
    "answers_sdf.show(10)"
   ]
  },
  {
   "cell_type": "code",
   "execution_count": 8,
   "metadata": {},
   "outputs": [
    {
     "name": "stdout",
     "output_type": "stream",
     "text": [
      "root\n",
      " |-- value: string (nullable = true)\n",
      "\n"
     ]
    }
   ],
   "source": [
    "answers_sdf.printSchema()"
   ]
  },
  {
   "cell_type": "code",
   "execution_count": 9,
   "metadata": {},
   "outputs": [
    {
     "data": {
      "text/plain": [
       "25405374"
      ]
     },
     "execution_count": 9,
     "metadata": {},
     "output_type": "execute_result"
    }
   ],
   "source": [
    "comments_answers_sdf.count()"
   ]
  },
  {
   "cell_type": "code",
   "execution_count": 10,
   "metadata": {},
   "outputs": [
    {
     "name": "stdout",
     "output_type": "stream",
     "text": [
      "+--------------------+\n",
      "|               value|\n",
      "+--------------------+\n",
      "|     1 91 1220713630|\n",
      "|     3 91 1220713792|\n",
      "|  380 350 1220715736|\n",
      "|4642 2257 1220734307|\n",
      "|4642 1324220 1220...|\n",
      "|2495 4285 1220736640|\n",
      "|4642 4893 1220737355|\n",
      "|2515 4903 1220738560|\n",
      "|2515 4893 1220739071|\n",
      "|  199 199 1220741079|\n",
      "+--------------------+\n",
      "only showing top 10 rows\n",
      "\n"
     ]
    }
   ],
   "source": [
    "comments_answers_sdf.show(10)"
   ]
  },
  {
   "cell_type": "code",
   "execution_count": 11,
   "metadata": {},
   "outputs": [
    {
     "name": "stdout",
     "output_type": "stream",
     "text": [
      "root\n",
      " |-- value: string (nullable = true)\n",
      "\n"
     ]
    }
   ],
   "source": [
    "comments_answers_sdf.printSchema()"
   ]
  },
  {
   "cell_type": "code",
   "execution_count": 12,
   "metadata": {},
   "outputs": [
    {
     "data": {
      "text/plain": [
       "20268151"
      ]
     },
     "execution_count": 12,
     "metadata": {},
     "output_type": "execute_result"
    }
   ],
   "source": [
    "comments_questions_sdf.count()"
   ]
  },
  {
   "cell_type": "code",
   "execution_count": 13,
   "metadata": {},
   "outputs": [
    {
     "name": "stdout",
     "output_type": "stream",
     "text": [
      "+--------------------+\n",
      "|               value|\n",
      "+--------------------+\n",
      "|4550 4550 1220729190|\n",
      "|  242 184 1220733503|\n",
      "|4213 4946 1220768149|\n",
      "|    91 91 1220768295|\n",
      "|2658 1874 1220771891|\n",
      "|4035 1874 1220773037|\n",
      "|2257 4489 1220802041|\n",
      "|  577 577 1220834891|\n",
      "|4489 4489 1220853536|\n",
      "| 828 2783 1220854143|\n",
      "+--------------------+\n",
      "only showing top 10 rows\n",
      "\n"
     ]
    }
   ],
   "source": [
    "comments_questions_sdf.show(10)"
   ]
  },
  {
   "cell_type": "code",
   "execution_count": 14,
   "metadata": {},
   "outputs": [
    {
     "name": "stdout",
     "output_type": "stream",
     "text": [
      "root\n",
      " |-- value: string (nullable = true)\n",
      "\n"
     ]
    }
   ],
   "source": [
    "comments_questions_sdf.printSchema()"
   ]
  },
  {
   "cell_type": "markdown",
   "metadata": {},
   "source": [
    "## Step 2.3"
   ]
  },
  {
   "cell_type": "code",
   "execution_count": 15,
   "metadata": {},
   "outputs": [],
   "source": [
    "# TODO: wrangling work in Step 2.3.  Add as many Cells as you need"
   ]
  },
  {
   "cell_type": "markdown",
   "metadata": {},
   "source": [
    "Create a temporary view (removed when the SparkSession ends) that allows us to run SQL queries against the contents of my_sdf"
   ]
  },
  {
   "cell_type": "code",
   "execution_count": 16,
   "metadata": {},
   "outputs": [],
   "source": [
    "answers_sdf.createOrReplaceTempView('answers_sdf_view')\n"
   ]
  },
  {
   "cell_type": "markdown",
   "metadata": {},
   "source": [
    "seperate the three columns under value that are seperated by single spaces"
   ]
  },
  {
   "cell_type": "code",
   "execution_count": 17,
   "metadata": {},
   "outputs": [],
   "source": [
    "# using sql for answers_sdf\n",
    "answers_sdf = spark.sql( \"\"\"SELECT CAST(split(value, \" \")[0] AS INTEGER) AS from_node,\n",
    "    CAST(split(value, \" \")[1] AS INTEGER) AS to_node,\n",
    "    \"answer\" AS edge_type\n",
    "    FROM answers_sdf_view\"\"\")\n"
   ]
  },
  {
   "cell_type": "markdown",
   "metadata": {},
   "source": [
    "Note that I could also do this inspark without sql."
   ]
  },
  {
   "cell_type": "code",
   "execution_count": 18,
   "metadata": {},
   "outputs": [],
   "source": [
    "comments_answers_sdf = comments_answers_sdf.select( \\\n",
    "    F.split(comments_answers_sdf.value, \" \")[0].alias(\"from_node\").cast(\"int\"), \\\n",
    "    F.split(comments_answers_sdf.value, \" \")[1].alias(\"to_node\").cast(\"int\"), \\\n",
    "    F.split(comments_answers_sdf.value, \" \")[2].alias(\"edge_type\"))"
   ]
  },
  {
   "cell_type": "code",
   "execution_count": 19,
   "metadata": {},
   "outputs": [],
   "source": [
    "comments_answers_sdf = comments_answers_sdf.withColumn('edge_type', F.lit(\"comment-on-answer\"))"
   ]
  },
  {
   "cell_type": "code",
   "execution_count": 20,
   "metadata": {},
   "outputs": [],
   "source": [
    "comments_questions_sdf = comments_questions_sdf.select( \\\n",
    "    F.split(comments_questions_sdf.value, \" \")[0].alias(\"from_node\").cast(\"int\"), \\\n",
    "    F.split(comments_questions_sdf.value, \" \")[1].alias(\"to_node\").cast(\"int\"), \\\n",
    "    F.split(comments_questions_sdf.value, \" \")[2].alias(\"edge_type\"))"
   ]
  },
  {
   "cell_type": "code",
   "execution_count": 21,
   "metadata": {},
   "outputs": [],
   "source": [
    "comments_questions_sdf = comments_questions_sdf.withColumn('edge_type', F.lit(\"comment-on-question\"))"
   ]
  },
  {
   "cell_type": "markdown",
   "metadata": {},
   "source": [
    "Now use the Spark DataFrame unionAll function, or spark.sql() and the SQL UNION ALL operator, to create a single Spark DataFrame called graph_sdf, concatenating the results of all of the above, in the order answers_sdf, comments_questions_sdf, comments_answers_sdf."
   ]
  },
  {
   "cell_type": "code",
   "execution_count": 22,
   "metadata": {},
   "outputs": [],
   "source": [
    "# via spark\n",
    "graph_sdf = answers_sdf.unionAll(comments_questions_sdf).unionAll(comments_answers_sdf)"
   ]
  },
  {
   "cell_type": "markdown",
   "metadata": {},
   "source": [
    "Note that the code in the next block does exactly the same thing as the block above. Above uses spark and below uses SQL."
   ]
  },
  {
   "cell_type": "code",
   "execution_count": 23,
   "metadata": {},
   "outputs": [],
   "source": [
    "# via SQL\n",
    "answers_sdf.createOrReplaceTempView('answers_sdf_view')\n",
    "comments_answers_sdf.createOrReplaceTempView('comments_answers_sdf_view')\n",
    "comments_questions_sdf.createOrReplaceTempView('comments_questions_sdf_view')\n",
    "sql2graphsdf_cmd = \"SELECT * FROM answers_sdf_view \" + \\\n",
    "    \"UNION \" + \\\n",
    "    \"SELECT * FROM comments_answers_sdf_view \" + \\\n",
    "    \"UNION \" + \\\n",
    "    \"SELECT * FROM comments_questions_sdf_view\"\n",
    "graph_sdf = spark.sql(sql2graphsdf_cmd)"
   ]
  },
  {
   "cell_type": "markdown",
   "metadata": {},
   "source": [
    "## Step 2.3 Results"
   ]
  },
  {
   "cell_type": "code",
   "execution_count": 24,
   "metadata": {},
   "outputs": [
    {
     "data": {
      "text/plain": [
       "17823525"
      ]
     },
     "execution_count": 24,
     "metadata": {},
     "output_type": "execute_result"
    }
   ],
   "source": [
    "answers_sdf.count()"
   ]
  },
  {
   "cell_type": "code",
   "execution_count": 25,
   "metadata": {},
   "outputs": [
    {
     "name": "stdout",
     "output_type": "stream",
     "text": [
      "+---------+-------+---------+\n",
      "|from_node|to_node|edge_type|\n",
      "+---------+-------+---------+\n",
      "|        9|      8|   answer|\n",
      "|        1|      1|   answer|\n",
      "|       13|      1|   answer|\n",
      "|       17|      1|   answer|\n",
      "|       48|      2|   answer|\n",
      "+---------+-------+---------+\n",
      "only showing top 5 rows\n",
      "\n"
     ]
    }
   ],
   "source": [
    "answers_sdf.show(5)"
   ]
  },
  {
   "cell_type": "code",
   "execution_count": 26,
   "metadata": {},
   "outputs": [
    {
     "name": "stdout",
     "output_type": "stream",
     "text": [
      "root\n",
      " |-- from_node: integer (nullable = true)\n",
      " |-- to_node: integer (nullable = true)\n",
      " |-- edge_type: string (nullable = false)\n",
      "\n"
     ]
    }
   ],
   "source": [
    "answers_sdf.printSchema()"
   ]
  },
  {
   "cell_type": "code",
   "execution_count": 27,
   "metadata": {},
   "outputs": [
    {
     "data": {
      "text/plain": [
       "25405374"
      ]
     },
     "execution_count": 27,
     "metadata": {},
     "output_type": "execute_result"
    }
   ],
   "source": [
    "comments_answers_sdf.count()"
   ]
  },
  {
   "cell_type": "code",
   "execution_count": 28,
   "metadata": {},
   "outputs": [
    {
     "name": "stdout",
     "output_type": "stream",
     "text": [
      "+---------+-------+-----------------+\n",
      "|from_node|to_node|        edge_type|\n",
      "+---------+-------+-----------------+\n",
      "|        1|     91|comment-on-answer|\n",
      "|        3|     91|comment-on-answer|\n",
      "|      380|    350|comment-on-answer|\n",
      "|     4642|   2257|comment-on-answer|\n",
      "|     4642|1324220|comment-on-answer|\n",
      "+---------+-------+-----------------+\n",
      "only showing top 5 rows\n",
      "\n"
     ]
    }
   ],
   "source": [
    "comments_answers_sdf.show(5)"
   ]
  },
  {
   "cell_type": "code",
   "execution_count": 29,
   "metadata": {},
   "outputs": [
    {
     "name": "stdout",
     "output_type": "stream",
     "text": [
      "root\n",
      " |-- from_node: integer (nullable = true)\n",
      " |-- to_node: integer (nullable = true)\n",
      " |-- edge_type: string (nullable = false)\n",
      "\n"
     ]
    }
   ],
   "source": [
    "comments_answers_sdf.printSchema()"
   ]
  },
  {
   "cell_type": "code",
   "execution_count": 30,
   "metadata": {},
   "outputs": [
    {
     "data": {
      "text/plain": [
       "20268151"
      ]
     },
     "execution_count": 30,
     "metadata": {},
     "output_type": "execute_result"
    }
   ],
   "source": [
    " comments_questions_sdf.count()"
   ]
  },
  {
   "cell_type": "code",
   "execution_count": 31,
   "metadata": {},
   "outputs": [
    {
     "name": "stdout",
     "output_type": "stream",
     "text": [
      "+---------+-------+-------------------+\n",
      "|from_node|to_node|          edge_type|\n",
      "+---------+-------+-------------------+\n",
      "|     4550|   4550|comment-on-question|\n",
      "|      242|    184|comment-on-question|\n",
      "|     4213|   4946|comment-on-question|\n",
      "|       91|     91|comment-on-question|\n",
      "|     2658|   1874|comment-on-question|\n",
      "+---------+-------+-------------------+\n",
      "only showing top 5 rows\n",
      "\n"
     ]
    }
   ],
   "source": [
    "comments_questions_sdf.show(5)"
   ]
  },
  {
   "cell_type": "code",
   "execution_count": 32,
   "metadata": {},
   "outputs": [
    {
     "name": "stdout",
     "output_type": "stream",
     "text": [
      "root\n",
      " |-- from_node: integer (nullable = true)\n",
      " |-- to_node: integer (nullable = true)\n",
      " |-- edge_type: string (nullable = false)\n",
      "\n"
     ]
    }
   ],
   "source": [
    "comments_questions_sdf.printSchema()"
   ]
  },
  {
   "cell_type": "code",
   "execution_count": 33,
   "metadata": {},
   "outputs": [
    {
     "data": {
      "text/plain": [
       "38863566"
      ]
     },
     "execution_count": 33,
     "metadata": {},
     "output_type": "execute_result"
    }
   ],
   "source": [
    "graph_sdf.count()"
   ]
  },
  {
   "cell_type": "code",
   "execution_count": 34,
   "metadata": {},
   "outputs": [
    {
     "name": "stdout",
     "output_type": "stream",
     "text": [
      "+---------+-------+---------+\n",
      "|from_node|to_node|edge_type|\n",
      "+---------+-------+---------+\n",
      "|        4| 686767|   answer|\n",
      "|        4|1018689|   answer|\n",
      "|        5|  97447|   answer|\n",
      "|       13| 146603|   answer|\n",
      "|       13| 210713|   answer|\n",
      "+---------+-------+---------+\n",
      "only showing top 5 rows\n",
      "\n"
     ]
    }
   ],
   "source": [
    "graph_sdf.show(5)"
   ]
  },
  {
   "cell_type": "code",
   "execution_count": 35,
   "metadata": {},
   "outputs": [
    {
     "name": "stdout",
     "output_type": "stream",
     "text": [
      "root\n",
      " |-- from_node: integer (nullable = true)\n",
      " |-- to_node: integer (nullable = true)\n",
      " |-- edge_type: string (nullable = false)\n",
      "\n"
     ]
    }
   ],
   "source": [
    "graph_sdf.printSchema()"
   ]
  },
  {
   "cell_type": "markdown",
   "metadata": {},
   "source": [
    "## Step 2.4"
   ]
  },
  {
   "cell_type": "code",
   "execution_count": 36,
   "metadata": {},
   "outputs": [
    {
     "name": "stdout",
     "output_type": "stream",
     "text": [
      "+-------+---------+\n",
      "|   user|ansCounts|\n",
      "+-------+---------+\n",
      "|  22656|    32030|\n",
      "|1144035|    25146|\n",
      "|  29407|    20842|\n",
      "| 548225|    16944|\n",
      "| 157882|    16615|\n",
      "| 115145|    16515|\n",
      "|  17034|    15437|\n",
      "| 100297|    15020|\n",
      "|   6309|    14291|\n",
      "|  34397|    14033|\n",
      "+-------+---------+\n",
      "only showing top 10 rows\n",
      "\n"
     ]
    }
   ],
   "source": [
    "# TODO: ind the user who has answered the most (highest number of) questions\n",
    "answers_sdf.select( \\\n",
    "    answers_sdf.from_node.alias(\"user\"), \\\n",
    "    answers_sdf.to_node).groupBy(\"user\").agg( \\\n",
    "    F.count(\"to_node\").alias(\"ansCounts\")).orderBy( \\\n",
    "    \"ansCounts\", ascending=False).show(10)"
   ]
  },
  {
   "cell_type": "markdown",
   "metadata": {},
   "source": [
    "## Step 2.4.1 Results"
   ]
  },
  {
   "cell_type": "code",
   "execution_count": 37,
   "metadata": {},
   "outputs": [
    {
     "name": "stdout",
     "output_type": "stream",
     "text": [
      "+------+---------+\n",
      "|  user|ansCounts|\n",
      "+------+---------+\n",
      "|  4653|     5212|\n",
      "| 39677|     4572|\n",
      "| 34537|     4234|\n",
      "|179736|     3795|\n",
      "|117700|     3532|\n",
      "|875317|     3510|\n",
      "| 84201|     3221|\n",
      "| 65387|     3061|\n",
      "|146780|     3021|\n",
      "| 49153|     2838|\n",
      "+------+---------+\n",
      "only showing top 10 rows\n",
      "\n"
     ]
    }
   ],
   "source": [
    "# TODO: output dataframe with top 10 users by number of questions\n",
    "graph_sdf.filter(graph_sdf[\"edge_type\"].isin(['answer','comment-on-question'])).select( \\\n",
    "    graph_sdf.to_node.alias(\"user\"), \\\n",
    "    graph_sdf.from_node).groupBy(\"user\").agg( \\\n",
    "    F.count(\"from_node\").alias(\"ansCounts\")).orderBy( \\\n",
    "    \"ansCounts\", ascending=False).show(10)"
   ]
  },
  {
   "cell_type": "code",
   "execution_count": 38,
   "metadata": {},
   "outputs": [
    {
     "name": "stdout",
     "output_type": "stream",
     "text": [
      "+-------+---------+\n",
      "|   user|ansCounts|\n",
      "+-------+---------+\n",
      "|  22656|    22860|\n",
      "|1144035|    21032|\n",
      "| 548225|    14127|\n",
      "|  29407|    13043|\n",
      "| 115145|    12243|\n",
      "|  19068|    12114|\n",
      "| 100297|    11486|\n",
      "|  34397|    11368|\n",
      "|  17034|    11347|\n",
      "|   6309|    11057|\n",
      "+-------+---------+\n",
      "only showing top 10 rows\n",
      "\n"
     ]
    }
   ],
   "source": [
    "# TODO: output top 10 users by number of answers to questions by distinct users\n",
    "answers_sdf.select( \\\n",
    "    answers_sdf.from_node.alias(\"user\"), \\\n",
    "    answers_sdf.to_node).distinct().groupBy(\"user\").agg( \\\n",
    "    F.count(\"to_node\").alias(\"ansCounts\")).orderBy( \\\n",
    "    \"ansCounts\", ascending=False).show(10)"
   ]
  },
  {
   "cell_type": "markdown",
   "metadata": {},
   "source": [
    "## Step 2.4.2 Results"
   ]
  },
  {
   "cell_type": "code",
   "execution_count": 39,
   "metadata": {},
   "outputs": [],
   "source": [
    "# TODO: number of users whose questions have never been answered or commented on\n",
    "def unanswered(edget_list):\n",
    "    if \"comment-on-question\" in edget_list and \\\n",
    "        \"answer\" not in edget_list:\n",
    "        return(1)\n",
    "    else:\n",
    "        return(0)"
   ]
  },
  {
   "cell_type": "code",
   "execution_count": 40,
   "metadata": {},
   "outputs": [],
   "source": [
    "sparkUnansweredF = F.udf(unanswered,  IntegerType())"
   ]
  },
  {
   "cell_type": "code",
   "execution_count": 41,
   "metadata": {},
   "outputs": [],
   "source": [
    "unanswered_sdf = graph_sdf.filter(graph_sdf[\"edge_type\"].isin(['answer','comment-on-question'])).select( \\\n",
    "    graph_sdf.to_node.alias(\"user\"), \\\n",
    "    graph_sdf.edge_type).groupBy(\"user\").agg( \\\n",
    "    F.collect_set(\"edge_type\").alias(\\\n",
    "    \"unanswered\")).withColumn(\\\n",
    "    \"unanswered\",sparkUnansweredF(\"unanswered\"))"
   ]
  },
  {
   "cell_type": "code",
   "execution_count": 42,
   "metadata": {},
   "outputs": [
    {
     "data": {
      "text/plain": [
       "150681"
      ]
     },
     "execution_count": 42,
     "metadata": {},
     "output_type": "execute_result"
    }
   ],
   "source": [
    "unanswered_sdf.filter(unanswered_sdf[\"unanswered\"] > 0).count()"
   ]
  },
  {
   "cell_type": "markdown",
   "metadata": {},
   "source": [
    "## Step 2.4.3 Results"
   ]
  },
  {
   "cell_type": "code",
   "execution_count": 43,
   "metadata": {},
   "outputs": [],
   "source": [
    "# TODO: top 10 pairs of users by mutual answers, along with the number of questions they have mutually answered\n",
    "def pairname(nodeA, nodeB):\n",
    "    if nodeA > nodeB:\n",
    "        return(str(nodeA)+\";\"+str(nodeB))\n",
    "    elif(nodeB > nodeA):\n",
    "        return(str(nodeB)+\";\"+str(nodeA))\n",
    "    else:\n",
    "        return(None)\n"
   ]
  },
  {
   "cell_type": "code",
   "execution_count": 44,
   "metadata": {},
   "outputs": [],
   "source": [
    "sparkPairNameF = F.udf(pairname,  StringType())"
   ]
  },
  {
   "cell_type": "markdown",
   "metadata": {},
   "source": [
    "I need to add a row for each pairID (\"user1;user2\") where user1>user2. Then I need to count the number of instances of each pairID (`ansCounts`). Then I need split up the pairID again to get a row for `user1` and `user2`"
   ]
  },
  {
   "cell_type": "code",
   "execution_count": 45,
   "metadata": {},
   "outputs": [],
   "source": [
    "helpful_pairs_sdf = answers_sdf.select( \\\n",
    "    sparkPairNameF(answers_sdf.from_node, \\\n",
    "    answers_sdf.to_node).alias('pairID')).groupBy( \\\n",
    "    'pairID').agg(F.count(\"pairID\").alias(\\\n",
    "    \"ansCounts\"))"
   ]
  },
  {
   "cell_type": "code",
   "execution_count": 46,
   "metadata": {},
   "outputs": [
    {
     "name": "stdout",
     "output_type": "stream",
     "text": [
      "+-------+------+---------+\n",
      "|  user1| user2|ansCounts|\n",
      "+-------+------+---------+\n",
      "| 742402|315935|      155|\n",
      "|2258442|217408|      105|\n",
      "| 399145|  6309|       81|\n",
      "|1391249|157882|       78|\n",
      "| 240337|157882|       76|\n",
      "| 470184|  6309|       76|\n",
      "| 167454| 91299|       73|\n",
      "| 505088| 46207|       72|\n",
      "| 988445|505088|       69|\n",
      "| 366797| 15168|       65|\n",
      "+-------+------+---------+\n",
      "only showing top 10 rows\n",
      "\n"
     ]
    }
   ],
   "source": [
    "helpful_pairs_sdf.select( \\\n",
    "    F.split(helpful_pairs_sdf.pairID, \";\")[0].alias(\"user1\").cast(\"int\"), \\\n",
    "    F.split(helpful_pairs_sdf.pairID, \";\")[1].alias(\"user2\").cast(\"int\"), \\\n",
    "    helpful_pairs_sdf.ansCounts).orderBy( \\\n",
    "    \"ansCounts\", ascending=False).show(10)"
   ]
  },
  {
   "cell_type": "markdown",
   "metadata": {},
   "source": [
    "# Step 3"
   ]
  },
  {
   "cell_type": "markdown",
   "metadata": {},
   "source": [
    "The higher the in-degree the more people have responded to the user's questions and answers. The higher the out-degre the more the user responds to other users."
   ]
  },
  {
   "cell_type": "code",
   "execution_count": 47,
   "metadata": {},
   "outputs": [],
   "source": [
    "# TODO: create `highest_indegree_sdf` with the 5 nodes with highest indegree\n",
    "highest_indegree_sdf = graph_sdf.select(\\\n",
    "    graph_sdf.to_node).groupBy(\\\n",
    "    \"to_node\").agg(F.count(\"to_node\").alias(\\\n",
    "    \"indegree\")).orderBy( \\\n",
    "    \"indegree\", ascending=False)"
   ]
  },
  {
   "cell_type": "code",
   "execution_count": 48,
   "metadata": {},
   "outputs": [],
   "source": [
    "# TODO: create `highest_outdegree_sdf` with the 5 nodes with highest outdegree\n",
    "highest_outdegree_sdf = graph_sdf.select(\\\n",
    "    graph_sdf.from_node).groupBy(\\\n",
    "    \"from_node\").agg(F.count(\"from_node\").alias(\\\n",
    "    \"outdegree\")).orderBy( \\\n",
    "    \"outdegree\", ascending=False)"
   ]
  },
  {
   "cell_type": "markdown",
   "metadata": {},
   "source": [
    "## Step 3 Results"
   ]
  },
  {
   "cell_type": "code",
   "execution_count": 49,
   "metadata": {},
   "outputs": [
    {
     "name": "stdout",
     "output_type": "stream",
     "text": [
      "+-------+--------+\n",
      "|to_node|indegree|\n",
      "+-------+--------+\n",
      "|  22656|   22661|\n",
      "|1144035|   14743|\n",
      "|  29407|   12794|\n",
      "| 548225|   10714|\n",
      "| 115145|   10596|\n",
      "+-------+--------+\n",
      "only showing top 5 rows\n",
      "\n"
     ]
    }
   ],
   "source": [
    "highest_indegree_sdf.show(5)"
   ]
  },
  {
   "cell_type": "markdown",
   "metadata": {},
   "source": [
    "## Step 4"
   ]
  },
  {
   "cell_type": "code",
   "execution_count": 50,
   "metadata": {},
   "outputs": [
    {
     "name": "stdout",
     "output_type": "stream",
     "text": [
      "+---------+---------+\n",
      "|from_node|outdegree|\n",
      "+---------+---------+\n",
      "|    22656|    44808|\n",
      "|    17034|    39664|\n",
      "|   118068|    35001|\n",
      "|  1491895|    33166|\n",
      "|  1144035|    32327|\n",
      "+---------+---------+\n",
      "only showing top 5 rows\n",
      "\n"
     ]
    }
   ],
   "source": [
    "highest_outdegree_sdf.show(5)"
   ]
  },
  {
   "cell_type": "code",
   "execution_count": 51,
   "metadata": {},
   "outputs": [],
   "source": [
    "# TODO: insert code as you like\n",
    "\n",
    "#def formatPair(node, distance):\n",
    "#    pair_n = (\"(%s,%s)\" % (node, distance))\n",
    "#    return(pair_n)"
   ]
  },
  {
   "cell_type": "code",
   "execution_count": 52,
   "metadata": {},
   "outputs": [],
   "source": [
    "#sparkFormatPairF = F.udf(formatPair,  StringType())"
   ]
  },
  {
   "cell_type": "code",
   "execution_count": 53,
   "metadata": {},
   "outputs": [],
   "source": [
    "#\n",
    "# Step 4.1 Pre-processing\n",
    "#\n",
    "def spark_bfs(G, origins, max_depth):\n",
    "    \n",
    "    schema = StructType([\n",
    "\n",
    "            StructField(\"node\", IntegerType(), True)\n",
    "\n",
    "        ])\n",
    "\n",
    "\n",
    "    return_sdf = spark.createDataFrame(origins, schema)\n",
    "    return_sdf = return_sdf.withColumn('depth', F.lit(0))\n",
    "    G.repartition(2, \"from_node\")\n",
    "    G.cache()\n",
    "    for i in range(1,max_depth+1):\n",
    "        joined_sdf = return_sdf.join(comments_questions_sdf, \\\n",
    "            return_sdf.node == comments_questions_sdf.from_node)\n",
    "        joined_sdf = joined_sdf.select( \\\n",
    "            joined_sdf.to_node.alias(\"node\")).withColumn( \\\n",
    "        'depth', F.lit(i))\n",
    "        joined_sdf = joined_sdf.join(return_sdf, \\\n",
    "            (joined_sdf.node == return_sdf.node), \\\n",
    "            'leftanti')\n",
    "        return_sdf = return_sdf.unionAll(joined_sdf)\n",
    "    \n",
    "    return return_sdf"
   ]
  },
  {
   "cell_type": "markdown",
   "metadata": {},
   "source": [
    "## Step 4.1"
   ]
  },
  {
   "cell_type": "code",
   "execution_count": 54,
   "metadata": {},
   "outputs": [
    {
     "data": {
      "text/plain": [
       "397"
      ]
     },
     "execution_count": 54,
     "metadata": {},
     "output_type": "execute_result"
    }
   ],
   "source": [
    "# TODO: comment out this line once your code is ready\n",
    "#bfs_sdf = spark.createDataFrame([{'node': 123, 'depth': 1}, {'node': 456, 'depth': 2}])\n",
    "\n",
    "# TODO: enable this once your code is ready\n",
    "origin_map = [{'node': 4550}, {'node': 242}]\n",
    "bfs_sdf = spark_bfs(comments_questions_sdf, origin_map, 2)\n",
    "bfs_sdf.count()"
   ]
  },
  {
   "cell_type": "code",
   "execution_count": 55,
   "metadata": {},
   "outputs": [
    {
     "name": "stdout",
     "output_type": "stream",
     "text": [
      "+-------+-----+\n",
      "|   node|depth|\n",
      "+-------+-----+\n",
      "|   4550|    0|\n",
      "|    242|    0|\n",
      "|1619254|    1|\n",
      "|2332659|    1|\n",
      "|5504881|    1|\n",
      "|1139389|    1|\n",
      "|1940564|    1|\n",
      "| 818089|    1|\n",
      "|3047450|    1|\n",
      "|4773326|    1|\n",
      "+-------+-----+\n",
      "only showing top 10 rows\n",
      "\n"
     ]
    }
   ],
   "source": [
    "bfs_sdf.show(10)"
   ]
  },
  {
   "cell_type": "markdown",
   "metadata": {},
   "source": [
    "## Step 4.2"
   ]
  },
  {
   "cell_type": "code",
   "execution_count": 56,
   "metadata": {},
   "outputs": [],
   "source": [
    "\n",
    "#def formatPair(node, distance):\n",
    "#    pair_n = (\"(%s,%s)\" % (node, distance))\n",
    "#    return(pair_n)"
   ]
  },
  {
   "cell_type": "code",
   "execution_count": 60,
   "metadata": {},
   "outputs": [],
   "source": [
    "#\n",
    "# Step 4.2 Pre-processing\n",
    "#\n",
    "def friend_rec(filtered_bfs_sdf, graph_sdf):\n",
    "    filtered_bfs_sdf.cache()\n",
    "    ## Make copy of list of nodes we are interested in\n",
    "    filtered_bfs_copy_sdf = filtered_bfs_sdf.select( \\\n",
    "        filtered_bfs_sdf.node.alias(\"to_node\"))\n",
    "    friend_recommendations_sdf = \\\n",
    "        filtered_bfs_sdf.join( \\\n",
    "        filtered_bfs_copy_sdf, \\\n",
    "        filtered_bfs_sdf.node != filtered_bfs_copy_sdf.to_node)\n",
    "    friend_recommendations_sdf = friend_recommendations_sdf.select( \\\n",
    "        friend_recommendations_sdf.node.alias(\"from_node\"), \\\n",
    "        friend_recommendations_sdf.to_node)\n",
    "    graph_sdf.repartition(2, \"from_node\")\n",
    "    poss_sdf = graph_sdf.join(filtered_bfs_sdf, \\\n",
    "        graph_sdf.from_node == filtered_bfs_sdf.node)\n",
    "    poss_sdf = poss_sdf.select(poss_sdf.from_node, \\\n",
    "        poss_sdf.to_node)\n",
    "    poss_sdf = poss_sdf.join(filtered_bfs_sdf, \\\n",
    "        poss_sdf.to_node == filtered_bfs_sdf.node)\n",
    "    poss_sdf = poss_sdf.select(poss_sdf.from_node, \\\n",
    "        poss_sdf.to_node).filter(poss_sdf.from_node!=poss_sdf.to_node)\n",
    "    poss_sdf_copy = poss_sdf.select( \\\n",
    "        poss_sdf.to_node.alias(\"from_node\"), \\\n",
    "        poss_sdf.from_node.alias(\"to_node\"))\n",
    "    poss_sdf = poss_sdf.unionAll(poss_sdf_copy)\n",
    "    \n",
    "    \n",
    "    #friend_recommendations_sdf = \\\n",
    "    #    friend_recommendations_sdf.select( \\\n",
    "    #    friend_recommendations_sdf.node.alias(\"from_node\"), \\\n",
    "    #    friend_recommendations_sdf.to_node, \\\n",
    "    #    sparkPairNameF(friend_recommendations_sdf.node, \\\n",
    "    #    friend_recommendations_sdf.to_node).alias('pairID'))\n",
    "    #friend_recommendations_sdf.repartition(2, \"pairID\")\n",
    "    #pair_sdf = graph_sdf.select(sparkPairNameF( \\\n",
    "    #    graph_sdf.from_node, \\\n",
    "    #    graph_sdf.to_node).alias('pairID2'))\n",
    "    \n",
    "    friend_recommendations_sdf = \\\n",
    "        friend_recommendations_sdf.join(poss_sdf, \\\n",
    "            ((friend_recommendations_sdf.from_node == \\\n",
    "             poss_sdf.from_node) & \\\n",
    "             (friend_recommendations_sdf.to_node == \\\n",
    "             poss_sdf.to_node)), \\\n",
    "            'leftanti')\n",
    "    #friend_recommendations_sdf = \\\n",
    "    #    friend_recommendations_sdf.select( \\\n",
    "    #    friend_recommendations_sdf.from_node, \\\n",
    "    #    friend_recommendations_sdf.to_node)\n",
    "        \n",
    "    return friend_recommendations_sdf\n",
    "    #return poss_sdf"
   ]
  },
  {
   "cell_type": "code",
   "execution_count": 61,
   "metadata": {},
   "outputs": [],
   "source": [
    "# get rows with distance of 2 and count rows per node\n",
    "filtered_bfs_sdf = bfs_sdf.filter(bfs_sdf[\"depth\"] == 2).groupBy(\"node\").agg( \\\n",
    "    F.count(\"node\").alias(\"parallel_edge_count\"))\n",
    "# remove nodes with only 1 instance\n",
    "filtered_bfs_sdf = filtered_bfs_sdf.filter( \\\n",
    "    filtered_bfs_sdf[\"parallel_edge_count\"] > 1)  \n",
    "# drop `parallel_edge_count` column \n",
    "# add back `depth` column\n",
    "filtered_bfs_sdf = filtered_bfs_sdf.select( \\\n",
    "            filtered_bfs_sdf.node).withColumn('depth', F.lit(2))"
   ]
  },
  {
   "cell_type": "code",
   "execution_count": 62,
   "metadata": {},
   "outputs": [
    {
     "data": {
      "text/plain": [
       "1804"
      ]
     },
     "execution_count": 62,
     "metadata": {},
     "output_type": "execute_result"
    }
   ],
   "source": [
    "# TODO: comment this line out when your function works\n",
    "#friend_recommendations_sdf = spark.createDataFrame([\\\n",
    "#                                                    {'from_node': 123, 'to_node': 456}, \\\n",
    "#                                                    {'from_node': 456, 'to_node': 123}])\n",
    "\n",
    "\n",
    "# TODO: enable this when your function works\n",
    "\n",
    "friend_recommendations_sdf = friend_rec(filtered_bfs_sdf, comments_questions_sdf)\n",
    "friend_recommendations_sdf.count()"
   ]
  },
  {
   "cell_type": "markdown",
   "metadata": {},
   "source": [
    "## Step 4.2 Results"
   ]
  },
  {
   "cell_type": "code",
   "execution_count": 63,
   "metadata": {},
   "outputs": [
    {
     "name": "stdout",
     "output_type": "stream",
     "text": [
      "+---------+-------+\n",
      "|from_node|to_node|\n",
      "+---------+-------+\n",
      "|    21918| 453447|\n",
      "|    21918|4204628|\n",
      "|    46646| 267679|\n",
      "|    59017|1187554|\n",
      "|   104015|  55503|\n",
      "|   211452|  59017|\n",
      "|   503032|2269511|\n",
      "|  1406214| 503032|\n",
      "|  2269511|  21918|\n",
      "|  3830157| 132640|\n",
      "|  4204628|  47550|\n",
      "|    46646|1127460|\n",
      "|    55503| 104015|\n",
      "|    60602|1187554|\n",
      "|   267679|1061543|\n",
      "|   393268| 318811|\n",
      "|  1218595|1187554|\n",
      "|  1218595|4800193|\n",
      "|    27483|  46646|\n",
      "|    63775|  46646|\n",
      "+---------+-------+\n",
      "only showing top 20 rows\n",
      "\n"
     ]
    }
   ],
   "source": [
    "friend_recommendations_sdf.show()"
   ]
  },
  {
   "cell_type": "markdown",
   "metadata": {},
   "source": [
    "## Step 4.3: Graph visualization"
   ]
  },
  {
   "cell_type": "markdown",
   "metadata": {},
   "source": [
    "### Once you have excecuted the cells in Step 4.2 and you have friend_recommendations_sdf, lets create friend_recommendations_df using toPandas(). This creates an in-memory dataFrame that we can use to build the graph. Here we have used ('from_node','to_node') as column names in friend_recommendations_sdf, please change it to what you have used in yours."
   ]
  },
  {
   "cell_type": "code",
   "execution_count": 64,
   "metadata": {},
   "outputs": [],
   "source": [
    "import networkx as nx\n",
    "\n",
    "# TODO: create friend_graph NetworkX graph from friend_recommendations_df from friend_recommendations_sdf\n",
    "friend_graph_df = friend_recommendations_sdf.toPandas()\n",
    "friend_graph = nx.from_pandas_dataframe(friend_graph_df,\"from_node\", \"to_node\")"
   ]
  },
  {
   "cell_type": "markdown",
   "metadata": {},
   "source": [
    "## Step 4.3 Results"
   ]
  },
  {
   "cell_type": "code",
   "execution_count": 65,
   "metadata": {},
   "outputs": [
    {
     "name": "stdout",
     "output_type": "stream",
     "text": [
      "Number of nodes (characters) in this graph is 43\n",
      "Number of edges in this graph is 902\n",
      "Graph diameter is 2\n"
     ]
    }
   ],
   "source": [
    "print (\"Number of nodes (characters) in this graph is\", friend_graph.order()) # number of nodes\n",
    "print (\"Number of edges in this graph is\", len(friend_graph.edges())) # number of edges\n",
    "print (\"Graph diameter is\", nx.diameter(friend_graph)) # maximum eccentricity"
   ]
  },
  {
   "cell_type": "code",
   "execution_count": 66,
   "metadata": {},
   "outputs": [
    {
     "data": {
      "image/png": "[encoded data removed]",
      "text/plain": [
       "<matplotlib.figure.Figure at 0x7efcda9a7710>"
      ]
     },
     "metadata": {},
     "output_type": "display_data"
    }
   ],
   "source": [
    " %matplotlib inline\n",
    " nx.draw(friend_graph)"
   ]
  },
  {
   "cell_type": "code",
   "execution_count": null,
   "metadata": {},
   "outputs": [],
   "source": []
  }
 ],
 "metadata": {
  "kernelspec": {
   "display_name": "Python 3",
   "language": "python",
   "name": "python3"
  },
  "language_info": {
   "codemirror_mode": {
    "name": "ipython",
    "version": 3
   },
   "file_extension": ".py",
   "mimetype": "text/x-python",
   "name": "python",
   "nbconvert_exporter": "python",
   "pygments_lexer": "ipython3",
   "version": "3.6.4"
  }
 },
 "nbformat": 4,
 "nbformat_minor": 2
}
